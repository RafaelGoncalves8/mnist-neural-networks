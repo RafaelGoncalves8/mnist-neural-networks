{
 "cells": [
  {
   "cell_type": "code",
   "execution_count": 1,
   "metadata": {},
   "outputs": [],
   "source": [
    "import torch\n",
    "import torchvision\n",
    "import torchvision.datasets as datasets\n",
    "import torch.nn as nn\n",
    "import torch.optim as optim\n",
    "torch.random.seed = 42\n",
    "\n",
    "import numpy as np\n",
    "\n",
    "import matplotlib.pyplot as plt\n",
    "%matplotlib inline"
   ]
  },
  {
   "cell_type": "markdown",
   "metadata": {},
   "source": [
    "## Load the MNIST dataset"
   ]
  },
  {
   "cell_type": "code",
   "execution_count": 2,
   "metadata": {},
   "outputs": [],
   "source": [
    "mnist_trainset = datasets.MNIST(root='../data', train=True, download=True,\n",
    "                                transform=None)\n",
    "\n",
    "mnist_testset = datasets.MNIST(root='../data', train=False, download=True,\n",
    "                               transform=None)"
   ]
  },
  {
   "cell_type": "code",
   "execution_count": 3,
   "metadata": {},
   "outputs": [
    {
     "name": "stdout",
     "output_type": "stream",
     "text": [
      "Dataset MNIST\n",
      "    Number of datapoints: 60000\n",
      "    Split: train\n",
      "    Root Location: ../data\n",
      "    Transforms (if any): None\n",
      "    Target Transforms (if any): None\n",
      "\n",
      "Dataset MNIST\n",
      "    Number of datapoints: 10000\n",
      "    Split: test\n",
      "    Root Location: ../data\n",
      "    Transforms (if any): None\n",
      "    Target Transforms (if any): None\n"
     ]
    }
   ],
   "source": [
    "print(mnist_trainset)\n",
    "print('')\n",
    "print(mnist_testset)"
   ]
  },
  {
   "cell_type": "code",
   "execution_count": 4,
   "metadata": {},
   "outputs": [
    {
     "data": {
      "text/plain": [
       "torch.Size([28, 28])"
      ]
     },
     "execution_count": 4,
     "metadata": {},
     "output_type": "execute_result"
    }
   ],
   "source": [
    "mnist_trainset.data[0].size()"
   ]
  },
  {
   "cell_type": "code",
   "execution_count": 5,
   "metadata": {},
   "outputs": [],
   "source": [
    "size_len = mnist_trainset.data[0].size()[0]"
   ]
  },
  {
   "cell_type": "code",
   "execution_count": 6,
   "metadata": {},
   "outputs": [
    {
     "data": {
      "image/png": "[encoded data removed]",
      "text/plain": [
       "<Figure size 432x288 with 5 Axes>"
      ]
     },
     "metadata": {
      "needs_background": "light"
     },
     "output_type": "display_data"
    }
   ],
   "source": [
    "fig = plt.figure(1)\n",
    "for i, img in enumerate(mnist_trainset.data[0:5]):\n",
    "    ax = fig.add_subplot(1,5,i+1)\n",
    "    ax.set_axis_off()\n",
    "    ax = plt.imshow(img)\n",
    "plt.show()"
   ]
  },
  {
   "cell_type": "markdown",
   "metadata": {},
   "source": [
    "## Net architecture and train/test routines"
   ]
  },
  {
   "cell_type": "code",
   "execution_count": 7,
   "metadata": {},
   "outputs": [],
   "source": [
    "class Net(nn.Module):\n",
    "    \"\"\"MLP with 3 ReLU hidden layers and 1 softmax output layer\"\"\"\n",
    "    \n",
    "    def __init__(self, H, C):\n",
    "        super(Net, self).__init__()\n",
    "        self.fc1 = nn.Linear(size_len*size_len, H)\n",
    "        self.fc2 = nn.Linear(H, H)\n",
    "        self.fc3 = nn.Linear(H, H)\n",
    "        self.fc4 = nn.Linear(H, C)\n",
    "        self.relu = nn.ReLU()\n",
    "        self.softmax = nn.LogSoftmax(dim=1)\n",
    "        \n",
    "    def forward(self, x):\n",
    "        x = x.view(-1, size_len*size_len)\n",
    "        x = self.relu(self.fc1(x))\n",
    "        x = self.relu(self.fc2(x))\n",
    "        x = self.relu(self.fc3(x))\n",
    "        x = self.softmax(self.fc4(x))\n",
    "        return x"
   ]
  },
  {
   "cell_type": "code",
   "execution_count": 8,
   "metadata": {},
   "outputs": [],
   "source": [
    "def train(model, x_train, y_train, optimizer, criterion, epoch, disp=''):\n",
    "    model.train()\n",
    "    \n",
    "    optimizer.zero_grad()\n",
    "    output = model(x_train)\n",
    "    loss = criterion(output, y_train)\n",
    "    loss.backward()\n",
    "    optimizer.step()\n",
    "    \n",
    "    if disp=='print':\n",
    "        print(\"Train Epoch: {}\\tLoss: {:.6f}\".format(epoch, loss.item()))\n",
    "    elif disp=='graph':\n",
    "        pass\n",
    "    \n",
    "    return loss\n",
    "        "
   ]
  },
  {
   "cell_type": "code",
   "execution_count": 9,
   "metadata": {},
   "outputs": [],
   "source": [
    "def test(model, x_test, y_test, criterion, disp=''):\n",
    "    model.eval()\n",
    "\n",
    "    with torch.no_grad():\n",
    "        output = model(x_test)\n",
    "        test_loss = criterion(output, y_test)\n",
    "\n",
    "    if disp=='print':\n",
    "        print(\"\\nTest set: Average loss: {:.4f}\\n\".format(test_loss))\n",
    "    elif disp=='graph':\n",
    "        pass\n",
    "        \n",
    "    return test_loss\n"
   ]
  },
  {
   "cell_type": "markdown",
   "metadata": {},
   "source": [
    "## Training"
   ]
  },
  {
   "cell_type": "code",
   "execution_count": 10,
   "metadata": {},
   "outputs": [],
   "source": [
    "X_train = mnist_trainset.data.float()\n",
    "y_train = mnist_trainset.targets\n",
    "\n",
    "X_test = mnist_testset.data.float()\n",
    "y_test = mnist_testset.targets"
   ]
  },
  {
   "cell_type": "code",
   "execution_count": 11,
   "metadata": {},
   "outputs": [
    {
     "name": "stdout",
     "output_type": "stream",
     "text": [
      "Net(\n",
      "  (fc1): Linear(in_features=784, out_features=100, bias=True)\n",
      "  (fc2): Linear(in_features=100, out_features=100, bias=True)\n",
      "  (fc3): Linear(in_features=100, out_features=100, bias=True)\n",
      "  (fc4): Linear(in_features=100, out_features=10, bias=True)\n",
      "  (relu): ReLU()\n",
      "  (softmax): LogSoftmax()\n",
      ")\n"
     ]
    }
   ],
   "source": [
    "model = Net(100, 10)\n",
    "print(model)"
   ]
  },
  {
   "cell_type": "code",
   "execution_count": 12,
   "metadata": {},
   "outputs": [],
   "source": [
    "alpha = 0.01\n",
    "gamma = 10\n",
    "max_epoch = 100\n",
    "optimizer = optim.SGD(model.parameters(), lr=alpha)\n",
    "criterion = torch.nn.NLLLoss()"
   ]
  },
  {
   "cell_type": "code",
   "execution_count": 13,
   "metadata": {},
   "outputs": [],
   "source": [
    "epoch = count = 0"
   ]
  },
  {
   "cell_type": "code",
   "execution_count": 14,
   "metadata": {},
   "outputs": [
    {
     "name": "stdout",
     "output_type": "stream",
     "text": [
      "Train Epoch: 0\tLoss: 5.761347\n",
      "Train Epoch: 1\tLoss: 6.645049\n",
      "Train Epoch: 2\tLoss: 6.426782\n",
      "Train Epoch: 3\tLoss: 4.026203\n",
      "Train Epoch: 4\tLoss: 2.825845\n",
      "Train Epoch: 5\tLoss: 2.278574\n",
      "Train Epoch: 6\tLoss: 2.052420\n",
      "Train Epoch: 7\tLoss: 1.910081\n",
      "Train Epoch: 8\tLoss: 1.764348\n",
      "Train Epoch: 9\tLoss: 1.611848\n",
      "Train Epoch: 10\tLoss: 1.460411\n",
      "Train Epoch: 11\tLoss: 1.321166\n",
      "Train Epoch: 12\tLoss: 1.198248\n",
      "Train Epoch: 13\tLoss: 1.095159\n",
      "Train Epoch: 14\tLoss: 1.019107\n",
      "Train Epoch: 15\tLoss: 1.003167\n",
      "Train Epoch: 16\tLoss: 1.137683\n",
      "Train Epoch: 17\tLoss: 1.560563\n",
      "Train Epoch: 18\tLoss: 1.233567\n",
      "Train Epoch: 19\tLoss: 0.946835\n",
      "Train Epoch: 20\tLoss: 0.825545\n",
      "Train Epoch: 21\tLoss: 0.757117\n",
      "Train Epoch: 22\tLoss: 0.733004\n",
      "Train Epoch: 23\tLoss: 0.743758\n",
      "Train Epoch: 24\tLoss: 0.892473\n",
      "Train Epoch: 25\tLoss: 1.470630\n",
      "Train Epoch: 26\tLoss: 1.518587\n",
      "Train Epoch: 27\tLoss: 1.058077\n",
      "Train Epoch: 28\tLoss: 0.699672\n",
      "Train Epoch: 29\tLoss: 0.622593\n",
      "Train Epoch: 30\tLoss: 0.585923\n",
      "Train Epoch: 31\tLoss: 0.560734\n",
      "Train Epoch: 32\tLoss: 0.541747\n",
      "Train Epoch: 33\tLoss: 0.527327\n",
      "Train Epoch: 34\tLoss: 0.517539\n",
      "Train Epoch: 35\tLoss: 0.514253\n",
      "Train Epoch: 36\tLoss: 0.523863\n",
      "Train Epoch: 37\tLoss: 0.550202\n",
      "Train Epoch: 38\tLoss: 0.607478\n",
      "Train Epoch: 39\tLoss: 0.606274\n",
      "Train Epoch: 40\tLoss: 0.597983\n",
      "Train Epoch: 41\tLoss: 0.558785\n",
      "Train Epoch: 42\tLoss: 0.511871\n",
      "Train Epoch: 43\tLoss: 0.489614\n",
      "Train Epoch: 44\tLoss: 0.462406\n",
      "Train Epoch: 45\tLoss: 0.448937\n",
      "Train Epoch: 46\tLoss: 0.435526\n",
      "Train Epoch: 47\tLoss: 0.427298\n",
      "Train Epoch: 48\tLoss: 0.419168\n",
      "Train Epoch: 49\tLoss: 0.413098\n",
      "Train Epoch: 50\tLoss: 0.407242\n",
      "Train Epoch: 51\tLoss: 0.402302\n",
      "Train Epoch: 52\tLoss: 0.397527\n",
      "Train Epoch: 53\tLoss: 0.393276\n",
      "Train Epoch: 54\tLoss: 0.389098\n",
      "Train Epoch: 55\tLoss: 0.385325\n",
      "Train Epoch: 56\tLoss: 0.381615\n",
      "Train Epoch: 57\tLoss: 0.378217\n",
      "Train Epoch: 58\tLoss: 0.374851\n",
      "Train Epoch: 59\tLoss: 0.371764\n",
      "Train Epoch: 60\tLoss: 0.368654\n",
      "Train Epoch: 61\tLoss: 0.365786\n",
      "Train Epoch: 62\tLoss: 0.362926\n",
      "Train Epoch: 63\tLoss: 0.360312\n",
      "Train Epoch: 64\tLoss: 0.357665\n",
      "Train Epoch: 65\tLoss: 0.355281\n",
      "Train Epoch: 66\tLoss: 0.352833\n",
      "Train Epoch: 67\tLoss: 0.350622\n",
      "Train Epoch: 68\tLoss: 0.348345\n",
      "Train Epoch: 69\tLoss: 0.346307\n",
      "Train Epoch: 70\tLoss: 0.344184\n",
      "Train Epoch: 71\tLoss: 0.342396\n",
      "Train Epoch: 72\tLoss: 0.340420\n",
      "Train Epoch: 73\tLoss: 0.338773\n",
      "Train Epoch: 74\tLoss: 0.336886\n",
      "Train Epoch: 75\tLoss: 0.335441\n",
      "Train Epoch: 76\tLoss: 0.333597\n",
      "Train Epoch: 77\tLoss: 0.332237\n",
      "Train Epoch: 78\tLoss: 0.330450\n",
      "Train Epoch: 79\tLoss: 0.329107\n",
      "Train Epoch: 80\tLoss: 0.327255\n",
      "Train Epoch: 81\tLoss: 0.325861\n",
      "Train Epoch: 82\tLoss: 0.323897\n",
      "Train Epoch: 83\tLoss: 0.322307\n",
      "Train Epoch: 84\tLoss: 0.320205\n",
      "Train Epoch: 85\tLoss: 0.318457\n",
      "Train Epoch: 86\tLoss: 0.316181\n",
      "Train Epoch: 87\tLoss: 0.314280\n",
      "Train Epoch: 88\tLoss: 0.311932\n",
      "Train Epoch: 89\tLoss: 0.309894\n",
      "Train Epoch: 90\tLoss: 0.307600\n",
      "Train Epoch: 91\tLoss: 0.305541\n",
      "Train Epoch: 92\tLoss: 0.303308\n",
      "Train Epoch: 93\tLoss: 0.301284\n",
      "Train Epoch: 94\tLoss: 0.299201\n",
      "Train Epoch: 95\tLoss: 0.297252\n",
      "Train Epoch: 96\tLoss: 0.295265\n",
      "Train Epoch: 97\tLoss: 0.293419\n",
      "Train Epoch: 98\tLoss: 0.291532\n",
      "Train Epoch: 99\tLoss: 0.289805\n",
      "Train Epoch: 100\tLoss: 0.288056\n",
      "Train Epoch: 101\tLoss: 0.286434\n",
      "Train Epoch: 102\tLoss: 0.284809\n",
      "Train Epoch: 103\tLoss: 0.283275\n",
      "Train Epoch: 104\tLoss: 0.281768\n",
      "Train Epoch: 105\tLoss: 0.280323\n",
      "Train Epoch: 106\tLoss: 0.278905\n",
      "Train Epoch: 107\tLoss: 0.277544\n",
      "Train Epoch: 108\tLoss: 0.276198\n",
      "Train Epoch: 109\tLoss: 0.274900\n",
      "Train Epoch: 110\tLoss: 0.273619\n",
      "Train Epoch: 111\tLoss: 0.272377\n",
      "Train Epoch: 112\tLoss: 0.271143\n",
      "Train Epoch: 113\tLoss: 0.269945\n",
      "Train Epoch: 114\tLoss: 0.268769\n",
      "Train Epoch: 115\tLoss: 0.267619\n",
      "Train Epoch: 116\tLoss: 0.266481\n",
      "Train Epoch: 117\tLoss: 0.265387\n",
      "Train Epoch: 118\tLoss: 0.264282\n",
      "Train Epoch: 119\tLoss: 0.263223\n",
      "Train Epoch: 120\tLoss: 0.262152\n",
      "Train Epoch: 121\tLoss: 0.261125\n",
      "Train Epoch: 122\tLoss: 0.260093\n",
      "Train Epoch: 123\tLoss: 0.259086\n",
      "Train Epoch: 124\tLoss: 0.258094\n",
      "Train Epoch: 125\tLoss: 0.257105\n",
      "Train Epoch: 126\tLoss: 0.256139\n",
      "Train Epoch: 127\tLoss: 0.255179\n",
      "Train Epoch: 128\tLoss: 0.254235\n",
      "Train Epoch: 129\tLoss: 0.253308\n",
      "Train Epoch: 130\tLoss: 0.252388\n",
      "Train Epoch: 131\tLoss: 0.251485\n",
      "Train Epoch: 132\tLoss: 0.250608\n",
      "Train Epoch: 133\tLoss: 0.249727\n",
      "Train Epoch: 134\tLoss: 0.248862\n",
      "Train Epoch: 135\tLoss: 0.248007\n",
      "Train Epoch: 136\tLoss: 0.247164\n",
      "Train Epoch: 137\tLoss: 0.246318\n",
      "Train Epoch: 138\tLoss: 0.245495\n",
      "Train Epoch: 139\tLoss: 0.244674\n",
      "Train Epoch: 140\tLoss: 0.243885\n",
      "Train Epoch: 141\tLoss: 0.243090\n",
      "Train Epoch: 142\tLoss: 0.242326\n",
      "Train Epoch: 143\tLoss: 0.241566\n",
      "Train Epoch: 144\tLoss: 0.240814\n",
      "Train Epoch: 145\tLoss: 0.240079\n",
      "Train Epoch: 146\tLoss: 0.239347\n",
      "Train Epoch: 147\tLoss: 0.238646\n",
      "Train Epoch: 148\tLoss: 0.237941\n",
      "Train Epoch: 149\tLoss: 0.237261\n",
      "Train Epoch: 150\tLoss: 0.236581\n",
      "Train Epoch: 151\tLoss: 0.235921\n",
      "Train Epoch: 152\tLoss: 0.235267\n",
      "Train Epoch: 153\tLoss: 0.234635\n",
      "Train Epoch: 154\tLoss: 0.234013\n",
      "Train Epoch: 155\tLoss: 0.233398\n",
      "Train Epoch: 156\tLoss: 0.232800\n",
      "Train Epoch: 157\tLoss: 0.232201\n",
      "Train Epoch: 158\tLoss: 0.231616\n",
      "Train Epoch: 159\tLoss: 0.231049\n",
      "Train Epoch: 160\tLoss: 0.230498\n",
      "Train Epoch: 161\tLoss: 0.229936\n",
      "Train Epoch: 162\tLoss: 0.229386\n",
      "Train Epoch: 163\tLoss: 0.228827\n",
      "Train Epoch: 164\tLoss: 0.228291\n",
      "Train Epoch: 165\tLoss: 0.227734\n",
      "Train Epoch: 166\tLoss: 0.227225\n",
      "Train Epoch: 167\tLoss: 0.226670\n",
      "Train Epoch: 168\tLoss: 0.226158\n",
      "Train Epoch: 169\tLoss: 0.225618\n",
      "Train Epoch: 170\tLoss: 0.225114\n",
      "Train Epoch: 171\tLoss: 0.224572\n",
      "Train Epoch: 172\tLoss: 0.224069\n",
      "Train Epoch: 173\tLoss: 0.223504\n",
      "Train Epoch: 174\tLoss: 0.223015\n",
      "Train Epoch: 175\tLoss: 0.222426\n",
      "Train Epoch: 176\tLoss: 0.221909\n",
      "Train Epoch: 177\tLoss: 0.221292\n",
      "Train Epoch: 178\tLoss: 0.220751\n",
      "Train Epoch: 179\tLoss: 0.220114\n",
      "Train Epoch: 180\tLoss: 0.219537\n",
      "Train Epoch: 181\tLoss: 0.218881\n",
      "Train Epoch: 182\tLoss: 0.218273\n",
      "Train Epoch: 183\tLoss: 0.217599\n",
      "Train Epoch: 184\tLoss: 0.216994\n",
      "Train Epoch: 185\tLoss: 0.216308\n",
      "Train Epoch: 186\tLoss: 0.215700\n",
      "Train Epoch: 187\tLoss: 0.215025\n",
      "Train Epoch: 188\tLoss: 0.214427\n",
      "Train Epoch: 189\tLoss: 0.213745\n",
      "Train Epoch: 190\tLoss: 0.213139\n",
      "Train Epoch: 191\tLoss: 0.212469\n",
      "Train Epoch: 192\tLoss: 0.211864\n",
      "Train Epoch: 193\tLoss: 0.211201\n",
      "Train Epoch: 194\tLoss: 0.210597\n",
      "Train Epoch: 195\tLoss: 0.209941\n",
      "Train Epoch: 196\tLoss: 0.209337\n",
      "Train Epoch: 197\tLoss: 0.208701\n",
      "Train Epoch: 198\tLoss: 0.208107\n",
      "Train Epoch: 199\tLoss: 0.207490\n",
      "Train Epoch: 200\tLoss: 0.206906\n",
      "Train Epoch: 201\tLoss: 0.206309\n",
      "Train Epoch: 202\tLoss: 0.205734\n",
      "Train Epoch: 203\tLoss: 0.205150\n",
      "Train Epoch: 204\tLoss: 0.204591\n",
      "Train Epoch: 205\tLoss: 0.204025\n",
      "Train Epoch: 206\tLoss: 0.203482\n",
      "Train Epoch: 207\tLoss: 0.202932\n",
      "Train Epoch: 208\tLoss: 0.202411\n",
      "Train Epoch: 209\tLoss: 0.201881\n",
      "Train Epoch: 210\tLoss: 0.201377\n",
      "Train Epoch: 211\tLoss: 0.200866\n",
      "Train Epoch: 212\tLoss: 0.200369\n",
      "Train Epoch: 213\tLoss: 0.199870\n",
      "Train Epoch: 214\tLoss: 0.199388\n",
      "Train Epoch: 215\tLoss: 0.198905\n",
      "Train Epoch: 216\tLoss: 0.198435\n",
      "Train Epoch: 217\tLoss: 0.197961\n",
      "Train Epoch: 218\tLoss: 0.197498\n",
      "Train Epoch: 219\tLoss: 0.197029\n",
      "Train Epoch: 220\tLoss: 0.196571\n",
      "Train Epoch: 221\tLoss: 0.196113\n",
      "Train Epoch: 222\tLoss: 0.195662\n",
      "Train Epoch: 223\tLoss: 0.195212\n",
      "Train Epoch: 224\tLoss: 0.194770\n",
      "Train Epoch: 225\tLoss: 0.194329\n",
      "Train Epoch: 226\tLoss: 0.193898\n",
      "Train Epoch: 227\tLoss: 0.193469\n",
      "Train Epoch: 228\tLoss: 0.193042\n",
      "Train Epoch: 229\tLoss: 0.192622\n",
      "Train Epoch: 230\tLoss: 0.192199\n",
      "Train Epoch: 231\tLoss: 0.191779\n",
      "Train Epoch: 232\tLoss: 0.191364\n",
      "Train Epoch: 233\tLoss: 0.190953\n",
      "Train Epoch: 234\tLoss: 0.190544\n",
      "Train Epoch: 235\tLoss: 0.190141\n",
      "Train Epoch: 236\tLoss: 0.189737\n",
      "Train Epoch: 237\tLoss: 0.189339\n",
      "Train Epoch: 238\tLoss: 0.188941\n",
      "Train Epoch: 239\tLoss: 0.188550\n",
      "Train Epoch: 240\tLoss: 0.188158\n",
      "Train Epoch: 241\tLoss: 0.187771\n",
      "Train Epoch: 242\tLoss: 0.187387\n",
      "Train Epoch: 243\tLoss: 0.187006\n",
      "Train Epoch: 244\tLoss: 0.186626\n",
      "Train Epoch: 245\tLoss: 0.186254\n",
      "Train Epoch: 246\tLoss: 0.185877\n",
      "Train Epoch: 247\tLoss: 0.185510\n",
      "Train Epoch: 248\tLoss: 0.185139\n",
      "Train Epoch: 249\tLoss: 0.184770\n",
      "Train Epoch: 250\tLoss: 0.184407\n",
      "Train Epoch: 251\tLoss: 0.184043\n",
      "Train Epoch: 252\tLoss: 0.183685\n",
      "Train Epoch: 253\tLoss: 0.183323\n",
      "Train Epoch: 254\tLoss: 0.182966\n",
      "Train Epoch: 255\tLoss: 0.182612\n",
      "Train Epoch: 256\tLoss: 0.182262\n",
      "Train Epoch: 257\tLoss: 0.181911\n",
      "Train Epoch: 258\tLoss: 0.181565\n",
      "Train Epoch: 259\tLoss: 0.181220\n"
     ]
    },
    {
     "name": "stdout",
     "output_type": "stream",
     "text": [
      "Train Epoch: 260\tLoss: 0.180877\n",
      "Train Epoch: 261\tLoss: 0.180534\n",
      "Train Epoch: 262\tLoss: 0.180194\n",
      "Train Epoch: 263\tLoss: 0.179855\n",
      "Train Epoch: 264\tLoss: 0.179518\n",
      "Train Epoch: 265\tLoss: 0.179183\n",
      "Train Epoch: 266\tLoss: 0.178850\n",
      "Train Epoch: 267\tLoss: 0.178519\n",
      "Train Epoch: 268\tLoss: 0.178188\n",
      "Train Epoch: 269\tLoss: 0.177860\n",
      "Train Epoch: 270\tLoss: 0.177530\n",
      "Train Epoch: 271\tLoss: 0.177205\n",
      "Train Epoch: 272\tLoss: 0.176881\n",
      "Train Epoch: 273\tLoss: 0.176558\n",
      "Train Epoch: 274\tLoss: 0.176237\n",
      "Train Epoch: 275\tLoss: 0.175916\n",
      "Train Epoch: 276\tLoss: 0.175601\n",
      "Train Epoch: 277\tLoss: 0.175283\n",
      "Train Epoch: 278\tLoss: 0.174971\n",
      "Train Epoch: 279\tLoss: 0.174657\n",
      "Train Epoch: 280\tLoss: 0.174348\n",
      "Train Epoch: 281\tLoss: 0.174036\n",
      "Train Epoch: 282\tLoss: 0.173733\n",
      "Train Epoch: 283\tLoss: 0.173424\n",
      "Train Epoch: 284\tLoss: 0.173122\n",
      "Train Epoch: 285\tLoss: 0.172819\n",
      "Train Epoch: 286\tLoss: 0.172519\n",
      "Train Epoch: 287\tLoss: 0.172220\n",
      "Train Epoch: 288\tLoss: 0.171921\n",
      "Train Epoch: 289\tLoss: 0.171624\n",
      "Train Epoch: 290\tLoss: 0.171330\n",
      "Train Epoch: 291\tLoss: 0.171035\n",
      "Train Epoch: 292\tLoss: 0.170743\n",
      "Train Epoch: 293\tLoss: 0.170454\n",
      "Train Epoch: 294\tLoss: 0.170164\n",
      "Train Epoch: 295\tLoss: 0.169876\n",
      "Train Epoch: 296\tLoss: 0.169592\n",
      "Train Epoch: 297\tLoss: 0.169307\n",
      "Train Epoch: 298\tLoss: 0.169026\n",
      "Train Epoch: 299\tLoss: 0.168746\n"
     ]
    }
   ],
   "source": [
    "for epoch in range(300):\n",
    "    train(model, X_train, y_train, optimizer, criterion, epoch, 'print')\n",
    "#    test(model, X_test, y_test, criterion, 'print')"
   ]
  },
  {
   "cell_type": "code",
   "execution_count": 15,
   "metadata": {},
   "outputs": [
    {
     "name": "stdout",
     "output_type": "stream",
     "text": [
      "\n",
      "Test set: Average loss: 0.1753\n",
      "\n"
     ]
    },
    {
     "data": {
      "text/plain": [
       "tensor(0.1753)"
      ]
     },
     "execution_count": 15,
     "metadata": {},
     "output_type": "execute_result"
    }
   ],
   "source": [
    "test(model, X_test, y_test, criterion, 'print')"
   ]
  },
  {
   "cell_type": "code",
   "execution_count": 16,
   "metadata": {},
   "outputs": [
    {
     "name": "stdout",
     "output_type": "stream",
     "text": [
      "\n",
      "Test set: Average loss: 0.2200\n",
      "\n"
     ]
    },
    {
     "data": {
      "text/plain": [
       "tensor(0.2200)"
      ]
     },
     "execution_count": 16,
     "metadata": {},
     "output_type": "execute_result"
    }
   ],
   "source": [
    "model = Net(300, 10)\n",
    "optimizer = optim.SGD(model.parameters(), lr=0.01)\n",
    "min_error = 999\n",
    "epoch = count = 0\n",
    "train_loss_vec = []\n",
    "test_loss_vec = []\n",
    "\n",
    "while (epoch < 100 and count < 30):\n",
    "    train_loss = train(model, X_train, y_train, optimizer, criterion, epoch, '')\n",
    "    test_loss = test(model, X_test, y_test, criterion)\n",
    "    train_loss_vec.append(train_loss)\n",
    "    test_loss_vec.append(test_loss)\n",
    "    epoch += 1\n",
    "    if test_loss >= min_error:\n",
    "        count += 1\n",
    "    else:\n",
    "        min_error = test_loss\n",
    "        \n",
    "test(model, X_test, y_test, criterion, 'print')"
   ]
  },
  {
   "cell_type": "code",
   "execution_count": 17,
   "metadata": {},
   "outputs": [
    {
     "data": {
      "image/png": "[encoded data removed]",
      "text/plain": [
       "<Figure size 432x288 with 1 Axes>"
      ]
     },
     "metadata": {
      "needs_background": "light"
     },
     "output_type": "display_data"
    }
   ],
   "source": [
    "plt.plot(train_loss_vec, \"r\")\n",
    "plt.hold = True\n",
    "plt.plot(test_loss_vec, \"b\")\n",
    "plt.hold = False\n",
    "plt.show()"
   ]
  },
  {
   "cell_type": "code",
   "execution_count": 25,
   "metadata": {},
   "outputs": [
    {
     "name": "stdout",
     "output_type": "stream",
     "text": [
      "7 - seven\n",
      "2 - two\n",
      "1 - one\n",
      "0 - zero\n",
      "9 - nine\n",
      "1 - one\n",
      "4 - four\n",
      "9 - nine\n",
      "6 - six\n",
      "9 - nine\n"
     ]
    },
    {
     "data": {
      "image/png": "[encoded data removed]",
      "text/plain": [
       "<Figure size 432x288 with 10 Axes>"
      ]
     },
     "metadata": {
      "needs_background": "light"
     },
     "output_type": "display_data"
    }
   ],
   "source": [
    "fig = plt.figure(1)\n",
    "for i, img in enumerate(X_test[:10]):\n",
    "    ax = fig.add_subplot(1,10,i+1)\n",
    "    ax.set_axis_off()\n",
    "    ax = plt.imshow(img)\n",
    "    with torch.no_grad():\n",
    "        a = model(img)\n",
    "    print(mnist_testset.classes[torch.argmax(a, dim=1)])\n",
    "plt.show()"
   ]
  }
 ],
 "metadata": {
  "kernelspec": {
   "display_name": "Python 3",
   "language": "python",
   "name": "python3"
  },
  "language_info": {
   "codemirror_mode": {
    "name": "ipython",
    "version": 3
   },
   "file_extension": ".py",
   "mimetype": "text/x-python",
   "name": "python",
   "nbconvert_exporter": "python",
   "pygments_lexer": "ipython3",
   "version": "3.7.3"
  }
 },
 "nbformat": 4,
 "nbformat_minor": 2
}
