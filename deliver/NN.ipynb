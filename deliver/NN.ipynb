{
 "cells": [
  {
   "cell_type": "code",
   "execution_count": 1,
   "metadata": {},
   "outputs": [],
   "source": [
    "import torch\n",
    "import torchvision\n",
    "import torchvision.datasets as datasets\n",
    "import torch.nn as nn\n",
    "import torch.optim as optim\n",
    "torch.random.seed = 42\n",
    "\n",
    "import numpy as np\n",
    "\n",
    "import random\n",
    "import gc\n",
    "\n",
    "import matplotlib.pyplot as plt\n",
    "%matplotlib inline"
   ]
  },
  {
   "cell_type": "markdown",
   "metadata": {},
   "source": [
    "## Load the MNIST dataset"
   ]
  },
  {
   "cell_type": "code",
   "execution_count": 2,
   "metadata": {},
   "outputs": [],
   "source": [
    "mnist_trainset = datasets.MNIST(root='../data', train=True, download=True,\n",
    "                                transform=None)\n",
    "\n",
    "mnist_testset = datasets.MNIST(root='../data', train=False, download=True,\n",
    "                               transform=None)"
   ]
  },
  {
   "cell_type": "code",
   "execution_count": 3,
   "metadata": {},
   "outputs": [
    {
     "name": "stdout",
     "output_type": "stream",
     "text": [
      "Dataset MNIST\n",
      "    Number of datapoints: 60000\n",
      "    Split: train\n",
      "    Root Location: ../data\n",
      "    Transforms (if any): None\n",
      "    Target Transforms (if any): None\n",
      "\n",
      "Dataset MNIST\n",
      "    Number of datapoints: 10000\n",
      "    Split: test\n",
      "    Root Location: ../data\n",
      "    Transforms (if any): None\n",
      "    Target Transforms (if any): None\n"
     ]
    }
   ],
   "source": [
    "print(mnist_trainset)\n",
    "print('')\n",
    "print(mnist_testset)"
   ]
  },
  {
   "cell_type": "code",
   "execution_count": 4,
   "metadata": {},
   "outputs": [
    {
     "data": {
      "text/plain": [
       "torch.Size([28, 28])"
      ]
     },
     "execution_count": 4,
     "metadata": {},
     "output_type": "execute_result"
    }
   ],
   "source": [
    "mnist_trainset.data[0].size()"
   ]
  },
  {
   "cell_type": "code",
   "execution_count": 5,
   "metadata": {},
   "outputs": [],
   "source": [
    "size_len = mnist_trainset.data[0].size()[0]"
   ]
  },
  {
   "cell_type": "code",
   "execution_count": 6,
   "metadata": {},
   "outputs": [
    {
     "data": {
      "image/png": "[encoded data removed]",
      "text/plain": [
       "<Figure size 432x288 with 5 Axes>"
      ]
     },
     "metadata": {
      "needs_background": "light"
     },
     "output_type": "display_data"
    }
   ],
   "source": [
    "fig = plt.figure(1)\n",
    "for i, img in enumerate(mnist_trainset.data[0:5]):\n",
    "    ax = fig.add_subplot(1,5,i+1)\n",
    "    ax.set_axis_off()\n",
    "    ax = plt.imshow(img)\n",
    "plt.show()"
   ]
  },
  {
   "cell_type": "markdown",
   "metadata": {},
   "source": [
    "## Net architecture and train/test routines"
   ]
  },
  {
   "cell_type": "code",
   "execution_count": 7,
   "metadata": {},
   "outputs": [],
   "source": [
    "class Net(nn.Module):\n",
    "    \"\"\"MLP with 4 ReLU hidden layers and 1 softmax output layer\"\"\"\n",
    "    \n",
    "    def __init__(self, H, C):\n",
    "        super(Net, self).__init__()\n",
    "        self.fc1 = nn.Linear(size_len*size_len, H)\n",
    "        self.fc2 = nn.Linear(H, H)\n",
    "        self.fc3 = nn.Linear(H, H)\n",
    "        self.fc4 = nn.Linear(H, H)\n",
    "        self.fc5 = nn.Linear(H, C)\n",
    "        self.relu = nn.ReLU()\n",
    "        self.softmax = nn.LogSoftmax(dim=1)\n",
    "        \n",
    "    def forward(self, x):\n",
    "        x = x.view(-1, size_len*size_len)\n",
    "        x = self.relu(self.fc1(x))\n",
    "        x = self.relu(self.fc2(x))\n",
    "        x = self.relu(self.fc3(x))\n",
    "        x = self.relu(self.fc4(x))\n",
    "        x = self.softmax(self.fc5(x))\n",
    "        return x"
   ]
  },
  {
   "cell_type": "code",
   "execution_count": 8,
   "metadata": {},
   "outputs": [],
   "source": [
    "def train(model, x_train, y_train, optimizer, criterion, epoch, disp=''):\n",
    "    model.train()\n",
    "    \n",
    "    optimizer.zero_grad()\n",
    "    output = model(x_train)\n",
    "    loss = criterion(output, y_train)\n",
    "    loss.backward()\n",
    "    optimizer.step()\n",
    "    \n",
    "    acc = (torch.sum((output.detach().max(dim=1)[1] == y_train), dtype=torch.float64))/len(y_train) \n",
    "\n",
    "    if disp=='print':\n",
    "        print(\"Train Epoch: {}\\tLoss: {:.6f}\\tAccuracy: {:.6f}\".format(epoch, loss.item(), acc))\n",
    "    elif disp=='ret':\n",
    "        return loss.item()\n",
    "        "
   ]
  },
  {
   "cell_type": "code",
   "execution_count": 9,
   "metadata": {},
   "outputs": [],
   "source": [
    "def test(model, x_test, y_test, criterion, disp='ret'):\n",
    "    model.eval()\n",
    "\n",
    "    with torch.no_grad():\n",
    "        output = model(x_test)\n",
    "        test_loss = criterion(output, y_test)\n",
    "        acc = (torch.sum((output.detach().max(dim=1)[1] == y_test), dtype=torch.float64))/len(y_test)\n",
    "\n",
    "    if disp=='print':\n",
    "        print(\"\\nTest set: Average loss: {:.4f}\\tAccuracy: {:.6f}\\n\".format(test_loss.item(), acc))\n",
    "    elif disp=='ret':\n",
    "        return test_loss, acc\n"
   ]
  },
  {
   "cell_type": "markdown",
   "metadata": {},
   "source": [
    "## Training"
   ]
  },
  {
   "cell_type": "code",
   "execution_count": 10,
   "metadata": {},
   "outputs": [],
   "source": [
    "X_train = mnist_trainset.data.float()\n",
    "y_train = mnist_trainset.targets\n",
    "\n",
    "X_test = mnist_testset.data.float()\n",
    "y_test = mnist_testset.targets\n",
    "\n",
    "Y_train = np.zeros((y_train.shape[0], 10))\n",
    "for i, e in enumerate(y_train):\n",
    "    Y_train[i,e] = 1\n",
    "    \n",
    "Y_test = np.zeros((y_test.shape[0], 10))\n",
    "for i, e in enumerate(y_test):\n",
    "    Y_test[i,e] = 1"
   ]
  },
  {
   "cell_type": "markdown",
   "metadata": {},
   "source": [
    "### Hyperparameters"
   ]
  },
  {
   "cell_type": "code",
   "execution_count": 11,
   "metadata": {},
   "outputs": [],
   "source": [
    "model = Net(200, 10)"
   ]
  },
  {
   "cell_type": "code",
   "execution_count": 12,
   "metadata": {},
   "outputs": [],
   "source": [
    "alpha = 0.01\n",
    "gamma = 10\n",
    "max_epoch = 100\n",
    "optimizer = optim.SGD(model.parameters(), lr=alpha)\n",
    "criterion = torch.nn.NLLLoss()"
   ]
  },
  {
   "cell_type": "code",
   "execution_count": 13,
   "metadata": {},
   "outputs": [],
   "source": [
    "epoch = count = 0"
   ]
  },
  {
   "cell_type": "code",
   "execution_count": 14,
   "metadata": {},
   "outputs": [
    {
     "name": "stdout",
     "output_type": "stream",
     "text": [
      "Train Epoch: 0\tLoss: 2.772829\tAccuracy: 0.125483\n",
      "Train Epoch: 1\tLoss: 2.323357\tAccuracy: 0.212533\n",
      "Train Epoch: 2\tLoss: 1.905990\tAccuracy: 0.369317\n",
      "Train Epoch: 3\tLoss: 1.706092\tAccuracy: 0.489433\n",
      "Train Epoch: 4\tLoss: 1.544132\tAccuracy: 0.558350\n",
      "Train Epoch: 5\tLoss: 1.450570\tAccuracy: 0.571200\n",
      "Train Epoch: 6\tLoss: 1.513896\tAccuracy: 0.528667\n",
      "Train Epoch: 7\tLoss: 1.746134\tAccuracy: 0.458867\n",
      "Train Epoch: 8\tLoss: 1.463799\tAccuracy: 0.560167\n",
      "Train Epoch: 9\tLoss: 1.149917\tAccuracy: 0.644767\n",
      "Train Epoch: 10\tLoss: 1.044478\tAccuracy: 0.684650\n",
      "Train Epoch: 11\tLoss: 1.176934\tAccuracy: 0.647467\n",
      "Train Epoch: 12\tLoss: 1.016710\tAccuracy: 0.668333\n",
      "Train Epoch: 13\tLoss: 1.029113\tAccuracy: 0.665100\n",
      "Train Epoch: 14\tLoss: 0.869100\tAccuracy: 0.730950\n",
      "Train Epoch: 15\tLoss: 0.821990\tAccuracy: 0.742600\n",
      "Train Epoch: 16\tLoss: 0.740696\tAccuracy: 0.779683\n",
      "Train Epoch: 17\tLoss: 0.739898\tAccuracy: 0.770033\n",
      "Train Epoch: 18\tLoss: 0.696768\tAccuracy: 0.781767\n",
      "Train Epoch: 19\tLoss: 0.744893\tAccuracy: 0.756483\n",
      "Train Epoch: 20\tLoss: 0.705839\tAccuracy: 0.760000\n",
      "Train Epoch: 21\tLoss: 0.790485\tAccuracy: 0.730017\n",
      "Train Epoch: 22\tLoss: 0.745206\tAccuracy: 0.744633\n",
      "Train Epoch: 23\tLoss: 0.702295\tAccuracy: 0.759900\n",
      "Train Epoch: 24\tLoss: 0.670143\tAccuracy: 0.774250\n",
      "Train Epoch: 25\tLoss: 0.605330\tAccuracy: 0.805733\n",
      "Train Epoch: 26\tLoss: 0.625214\tAccuracy: 0.792667\n",
      "Train Epoch: 27\tLoss: 0.609444\tAccuracy: 0.801400\n",
      "Train Epoch: 28\tLoss: 0.634573\tAccuracy: 0.787883\n",
      "Train Epoch: 29\tLoss: 0.628038\tAccuracy: 0.794983\n",
      "Train Epoch: 30\tLoss: 0.615875\tAccuracy: 0.795500\n",
      "Train Epoch: 31\tLoss: 0.567294\tAccuracy: 0.823400\n",
      "Train Epoch: 32\tLoss: 0.533217\tAccuracy: 0.832033\n",
      "Train Epoch: 33\tLoss: 0.489522\tAccuracy: 0.857850\n",
      "Train Epoch: 34\tLoss: 0.467540\tAccuracy: 0.858450\n",
      "Train Epoch: 35\tLoss: 0.446660\tAccuracy: 0.872517\n",
      "Train Epoch: 36\tLoss: 0.434501\tAccuracy: 0.870783\n",
      "Train Epoch: 37\tLoss: 0.423181\tAccuracy: 0.878567\n",
      "Train Epoch: 38\tLoss: 0.415444\tAccuracy: 0.876717\n",
      "Train Epoch: 39\tLoss: 0.408041\tAccuracy: 0.882383\n",
      "Train Epoch: 40\tLoss: 0.402996\tAccuracy: 0.880167\n",
      "Train Epoch: 41\tLoss: 0.397927\tAccuracy: 0.884250\n",
      "Train Epoch: 42\tLoss: 0.395329\tAccuracy: 0.881183\n",
      "Train Epoch: 43\tLoss: 0.392613\tAccuracy: 0.885183\n",
      "Train Epoch: 44\tLoss: 0.393690\tAccuracy: 0.881117\n",
      "Train Epoch: 45\tLoss: 0.394051\tAccuracy: 0.884433\n",
      "Train Epoch: 46\tLoss: 0.401342\tAccuracy: 0.877717\n",
      "Train Epoch: 47\tLoss: 0.405173\tAccuracy: 0.879483\n",
      "Train Epoch: 48\tLoss: 0.422142\tAccuracy: 0.869183\n",
      "Train Epoch: 49\tLoss: 0.425847\tAccuracy: 0.871517\n",
      "Train Epoch: 50\tLoss: 0.447918\tAccuracy: 0.859333\n",
      "Train Epoch: 51\tLoss: 0.436163\tAccuracy: 0.867933\n",
      "Train Epoch: 52\tLoss: 0.438272\tAccuracy: 0.861733\n",
      "Train Epoch: 53\tLoss: 0.408742\tAccuracy: 0.878033\n",
      "Train Epoch: 54\tLoss: 0.391188\tAccuracy: 0.879383\n",
      "Train Epoch: 55\tLoss: 0.369057\tAccuracy: 0.891700\n",
      "Train Epoch: 56\tLoss: 0.355452\tAccuracy: 0.891883\n",
      "Train Epoch: 57\tLoss: 0.344799\tAccuracy: 0.899900\n",
      "Train Epoch: 58\tLoss: 0.337855\tAccuracy: 0.898633\n",
      "Train Epoch: 59\tLoss: 0.332809\tAccuracy: 0.902850\n",
      "Train Epoch: 60\tLoss: 0.329520\tAccuracy: 0.901033\n",
      "Train Epoch: 61\tLoss: 0.327277\tAccuracy: 0.903883\n",
      "Train Epoch: 62\tLoss: 0.326698\tAccuracy: 0.901600\n",
      "Train Epoch: 63\tLoss: 0.327254\tAccuracy: 0.902717\n",
      "Train Epoch: 64\tLoss: 0.330795\tAccuracy: 0.898600\n",
      "Train Epoch: 65\tLoss: 0.337134\tAccuracy: 0.897550\n",
      "Train Epoch: 66\tLoss: 0.350279\tAccuracy: 0.888850\n",
      "Train Epoch: 67\tLoss: 0.372475\tAccuracy: 0.880633\n",
      "Train Epoch: 68\tLoss: 0.410759\tAccuracy: 0.864700\n",
      "Train Epoch: 69\tLoss: 0.470234\tAccuracy: 0.839483\n",
      "Train Epoch: 70\tLoss: 0.508222\tAccuracy: 0.832983\n",
      "Train Epoch: 71\tLoss: 0.504296\tAccuracy: 0.829467\n",
      "Train Epoch: 72\tLoss: 0.414009\tAccuracy: 0.866383\n",
      "Train Epoch: 73\tLoss: 0.342711\tAccuracy: 0.896100\n",
      "Train Epoch: 74\tLoss: 0.311449\tAccuracy: 0.906617\n",
      "Train Epoch: 75\tLoss: 0.299970\tAccuracy: 0.911600\n",
      "Train Epoch: 76\tLoss: 0.294795\tAccuracy: 0.913867\n",
      "Train Epoch: 77\tLoss: 0.291190\tAccuracy: 0.914217\n",
      "Train Epoch: 78\tLoss: 0.288376\tAccuracy: 0.915083\n",
      "Train Epoch: 79\tLoss: 0.285855\tAccuracy: 0.915767\n",
      "Train Epoch: 80\tLoss: 0.283569\tAccuracy: 0.916400\n",
      "Train Epoch: 81\tLoss: 0.281422\tAccuracy: 0.917100\n",
      "Train Epoch: 82\tLoss: 0.279395\tAccuracy: 0.918017\n",
      "Train Epoch: 83\tLoss: 0.277454\tAccuracy: 0.918433\n",
      "Train Epoch: 84\tLoss: 0.275591\tAccuracy: 0.919067\n",
      "Train Epoch: 85\tLoss: 0.273793\tAccuracy: 0.919300\n",
      "Train Epoch: 86\tLoss: 0.272052\tAccuracy: 0.919933\n",
      "Train Epoch: 87\tLoss: 0.270361\tAccuracy: 0.920217\n",
      "Train Epoch: 88\tLoss: 0.268715\tAccuracy: 0.920800\n",
      "Train Epoch: 89\tLoss: 0.267113\tAccuracy: 0.921100\n",
      "Train Epoch: 90\tLoss: 0.265555\tAccuracy: 0.921650\n",
      "Train Epoch: 91\tLoss: 0.264029\tAccuracy: 0.921800\n",
      "Train Epoch: 92\tLoss: 0.262541\tAccuracy: 0.922283\n",
      "Train Epoch: 93\tLoss: 0.261084\tAccuracy: 0.922517\n",
      "Train Epoch: 94\tLoss: 0.259661\tAccuracy: 0.922967\n",
      "Train Epoch: 95\tLoss: 0.258265\tAccuracy: 0.923283\n",
      "Train Epoch: 96\tLoss: 0.256899\tAccuracy: 0.923917\n",
      "Train Epoch: 97\tLoss: 0.255559\tAccuracy: 0.924317\n",
      "Train Epoch: 98\tLoss: 0.254243\tAccuracy: 0.924467\n",
      "Train Epoch: 99\tLoss: 0.252952\tAccuracy: 0.925150\n"
     ]
    }
   ],
   "source": [
    "for epoch in range(100):\n",
    "    train(model, X_train, y_train, optimizer, criterion, epoch, 'print')\n",
    "#    test(model, X_test, y_test, criterion, 'print')"
   ]
  },
  {
   "cell_type": "code",
   "execution_count": 15,
   "metadata": {},
   "outputs": [
    {
     "name": "stdout",
     "output_type": "stream",
     "text": [
      "\n",
      "Test set: Average loss: 0.2480\tAccuracy: 0.923500\n",
      "\n"
     ]
    }
   ],
   "source": [
    "test(model, X_test, y_test, criterion, 'print')"
   ]
  },
  {
   "cell_type": "code",
   "execution_count": 16,
   "metadata": {},
   "outputs": [
    {
     "data": {
      "text/plain": [
       "410"
      ]
     },
     "execution_count": 16,
     "metadata": {},
     "output_type": "execute_result"
    }
   ],
   "source": [
    "gc.collect()"
   ]
  },
  {
   "cell_type": "code",
   "execution_count": 18,
   "metadata": {},
   "outputs": [
    {
     "name": "stdout",
     "output_type": "stream",
     "text": [
      "\n",
      "Test set: Average loss: 0.0861\tAccuracy: 0.974800\n",
      "\n"
     ]
    }
   ],
   "source": [
    "model = Net(400, 10)\n",
    "optimizer = optim.Adam(model.parameters())\n",
    "min_error = 999\n",
    "epoch = count = 0\n",
    "train_loss_vec = []\n",
    "test_loss_vec = []\n",
    "\n",
    "while (epoch < 100 and count < 30):\n",
    "    train_loss = train(model, X_train, y_train, optimizer, criterion, epoch, 'ret')\n",
    "    test_loss, _ = test(model, X_test, y_test, criterion, 'ret')\n",
    "    train_loss_vec.append(train_loss)\n",
    "    test_loss_vec.append(test_loss)\n",
    "    epoch += 1\n",
    "    if test_loss >= min_error:\n",
    "        count += 1\n",
    "    else:\n",
    "        min_error = test_loss\n",
    "        \n",
    "test(model, X_test, y_test, criterion, 'print')"
   ]
  },
  {
   "cell_type": "code",
   "execution_count": 19,
   "metadata": {},
   "outputs": [
    {
     "data": {
      "image/png": "[encoded data removed]",
      "text/plain": [
       "<Figure size 432x288 with 1 Axes>"
      ]
     },
     "metadata": {
      "needs_background": "light"
     },
     "output_type": "display_data"
    }
   ],
   "source": [
    "plt.plot(train_loss_vec, \"r\")\n",
    "plt.hold = True\n",
    "plt.plot(test_loss_vec, \"b\")\n",
    "plt.hold = False\n",
    "plt.title(\"Loss progression by epochs\")\n",
    "plt.legend([\"Train loss\", \"Test loss\"])\n",
    "plt.show()"
   ]
  },
  {
   "cell_type": "code",
   "execution_count": 20,
   "metadata": {},
   "outputs": [
    {
     "data": {
      "text/plain": [
       "2687"
      ]
     },
     "execution_count": 20,
     "metadata": {},
     "output_type": "execute_result"
    }
   ],
   "source": [
    "gc.collect()"
   ]
  },
  {
   "cell_type": "code",
   "execution_count": 21,
   "metadata": {},
   "outputs": [
    {
     "name": "stdout",
     "output_type": "stream",
     "text": [
      "7 - seven\n",
      "2 - two\n",
      "1 - one\n",
      "0 - zero\n",
      "4 - four\n",
      "1 - one\n",
      "4 - four\n",
      "9 - nine\n",
      "5 - five\n",
      "9 - nine\n"
     ]
    },
    {
     "data": {
      "image/png": "[encoded data removed]",
      "text/plain": [
       "<Figure size 432x288 with 10 Axes>"
      ]
     },
     "metadata": {
      "needs_background": "light"
     },
     "output_type": "display_data"
    }
   ],
   "source": [
    "fig = plt.figure(1)\n",
    "for i, img in enumerate(X_test[:10]):\n",
    "    ax = fig.add_subplot(1,10,i+1)\n",
    "    ax.set_axis_off()\n",
    "    ax = plt.imshow(img)\n",
    "    with torch.no_grad():\n",
    "        a = model(img)\n",
    "    print(mnist_testset.classes[torch.argmax(a, dim=1)])\n",
    "plt.show()"
   ]
  },
  {
   "cell_type": "code",
   "execution_count": 22,
   "metadata": {},
   "outputs": [
    {
     "data": {
      "image/png": "[encoded data removed]",
      "text/plain": [
       "<Figure size 432x288 with 36 Axes>"
      ]
     },
     "metadata": {
      "needs_background": "light"
     },
     "output_type": "display_data"
    }
   ],
   "source": [
    "fig = plt.figure(1)\n",
    "fig.subplots_adjust(hspace=.5)\n",
    "\n",
    "for i, img in enumerate(X_test[:36]):\n",
    "    with torch.no_grad():\n",
    "        a = model(img)\n",
    "        \n",
    "    ax = fig.add_subplot(6,6,i+1)\n",
    "    ax.set_axis_off()\n",
    "    ax.set_title(mnist_testset.classes[torch.argmax(a, dim=1)])\n",
    "    ax = plt.imshow(img)\n",
    "\n",
    "\n",
    "plt.show()"
   ]
  },
  {
   "cell_type": "code",
   "execution_count": 23,
   "metadata": {},
   "outputs": [
    {
     "data": {
      "image/png": "[encoded data removed]",
      "text/plain": [
       "<Figure size 432x288 with 1 Axes>"
      ]
     },
     "metadata": {
      "needs_background": "light"
     },
     "output_type": "display_data"
    }
   ],
   "source": [
    "r = random.randint(0,1000)\n",
    "\n",
    "img = X_test[r]\n",
    "\n",
    "with torch.no_grad():\n",
    "    a = model(img)\n",
    "    \n",
    "plt.title(mnist_testset.classes[torch.argmax(a, dim=1)])\n",
    "plt.imshow(img)\n",
    "plt.show()"
   ]
  },
  {
   "cell_type": "code",
   "execution_count": 31,
   "metadata": {},
   "outputs": [],
   "source": [
    "def kfold(k, N, epochs, model):\n",
    "    optimizer = optim.Adam(model.parameters())\n",
    "    loss_avg = 0\n",
    "    acc_avg = 0\n",
    "    for i in range(k):\n",
    "        epoch = 0\n",
    "        count = 0\n",
    "        min_error = 0\n",
    "        while (epoch < epochs and count < epochs/10):\n",
    "            train(model, X_train[i*(int(N/k)):(i+1)*(int(N/k))], y_train[i*(int(N/k)):(i+1)*(int(N/k))], optimizer, criterion, epoch, '')\n",
    "            test_loss, test_acc = test(model, X_test, y_test, criterion, 'ret')\n",
    "            epoch += 1\n",
    "            if test_loss >= min_error:\n",
    "                count += 1\n",
    "            else:\n",
    "                min_error = test_loss\n",
    "            print('.', end='')\n",
    "        loss_avg += test_loss.detach()\n",
    "        acc_avg += test_acc\n",
    "        print('|', end='')\n",
    "    print('>')\n",
    "    return loss_avg/k, test_acc/k"
   ]
  },
  {
   "cell_type": "code",
   "execution_count": 32,
   "metadata": {},
   "outputs": [
    {
     "name": "stdout",
     "output_type": "stream",
     "text": [
      "..........|..........|..........|..........|..........|>\n",
      "..........|..........|..........|..........|..........|>\n",
      "..........|..........|..........|..........|..........|>\n",
      "..........|..........|..........|..........|..........|>\n",
      "..........|..........|..........|..........|..........|>\n",
      "..........|..........|..........|..........|..........|>\n"
     ]
    }
   ],
   "source": [
    "models = []\n",
    "for _ in range(6):\n",
    "    H = random.randint(100,600)\n",
    "    model = Net(H, 10)\n",
    "    loss, acc = kfold(5, 60000, 100, model)\n",
    "    models.append((H, loss, acc))        "
   ]
  },
  {
   "cell_type": "code",
   "execution_count": 33,
   "metadata": {},
   "outputs": [
    {
     "data": {
      "text/plain": [
       "224"
      ]
     },
     "execution_count": 33,
     "metadata": {},
     "output_type": "execute_result"
    }
   ],
   "source": [
    "gc.collect()"
   ]
  },
  {
   "cell_type": "code",
   "execution_count": 34,
   "metadata": {},
   "outputs": [
    {
     "data": {
      "text/plain": [
       "[(475, tensor(0.3960), tensor(0.1908, dtype=torch.float64)),\n",
       " (195, tensor(0.2693), tensor(0.1911, dtype=torch.float64)),\n",
       " (314, tensor(0.2104), tensor(0.1929, dtype=torch.float64)),\n",
       " (122, tensor(0.2520), tensor(0.1912, dtype=torch.float64)),\n",
       " (321, tensor(0.3375), tensor(0.1905, dtype=torch.float64)),\n",
       " (174, tensor(0.2879), tensor(0.1913, dtype=torch.float64))]"
      ]
     },
     "execution_count": 34,
     "metadata": {},
     "output_type": "execute_result"
    }
   ],
   "source": [
    "models"
   ]
  },
  {
   "cell_type": "code",
   "execution_count": null,
   "metadata": {},
   "outputs": [],
   "source": []
  }
 ],
 "metadata": {
  "kernelspec": {
   "display_name": "Python 3",
   "language": "python",
   "name": "python3"
  },
  "language_info": {
   "codemirror_mode": {
    "name": "ipython",
    "version": 3
   },
   "file_extension": ".py",
   "mimetype": "text/x-python",
   "name": "python",
   "nbconvert_exporter": "python",
   "pygments_lexer": "ipython3",
   "version": "3.7.3"
  }
 },
 "nbformat": 4,
 "nbformat_minor": 2
}
