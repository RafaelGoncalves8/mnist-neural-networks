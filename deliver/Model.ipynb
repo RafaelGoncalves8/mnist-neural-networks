{
 "cells": [
  {
   "cell_type": "code",
   "execution_count": 1,
   "metadata": {},
   "outputs": [],
   "source": [
    "import torch\n",
    "import torchvision\n",
    "import torchvision.datasets as datasets\n",
    "import torch.nn as nn\n",
    "import torch.optim as optim\n",
    "import torch.nn.functional as F\n",
    "torch.random.seed = 42\n",
    "\n",
    "import numpy as np\n",
    "\n",
    "import random\n",
    "import gc\n",
    "import os\n",
    "\n",
    "import matplotlib.pyplot as plt\n",
    "%matplotlib inline"
   ]
  },
  {
   "cell_type": "markdown",
   "metadata": {},
   "source": [
    "# Configs"
   ]
  },
  {
   "cell_type": "code",
   "execution_count": 2,
   "metadata": {},
   "outputs": [],
   "source": [
    "batch_size_train = 64\n",
    "batch_size_test = 1000\n",
    "learning_rate = 0.01\n",
    "n_epochs = 5\n",
    "log_interval = 10"
   ]
  },
  {
   "cell_type": "code",
   "execution_count": 3,
   "metadata": {},
   "outputs": [],
   "source": [
    "data_dir = os.path.abspath(os.path.relpath('../data'))\n",
    "image_dir = os.path.abspath(os.path.relpath('../doc/images'))"
   ]
  },
  {
   "cell_type": "markdown",
   "metadata": {},
   "source": [
    "# Load dataset"
   ]
  },
  {
   "cell_type": "code",
   "execution_count": 4,
   "metadata": {},
   "outputs": [],
   "source": [
    "mnist_trainset = datasets.MNIST(root='../data', train=True, download=True,\n",
    "                                transform=torchvision.transforms.Compose([\n",
    "                                    torchvision.transforms.Resize(32),\n",
    "                                    torchvision.transforms.ToTensor(), \n",
    "                                    torchvision.transforms.Normalize((0.1307,), (0.3081,))\n",
    "                                ])\n",
    "                                )\n",
    "\n",
    "mnist_testset = datasets.MNIST(root='../data', train=False, download=True,\n",
    "                                transform=torchvision.transforms.Compose([\n",
    "                                    torchvision.transforms.Resize(32),\n",
    "                                    torchvision.transforms.ToTensor(),\n",
    "                                    torchvision.transforms.Normalize((0.1307,), (0.3081,))\n",
    "                                                                    ])\n",
    "                              )"
   ]
  },
  {
   "cell_type": "code",
   "execution_count": 5,
   "metadata": {},
   "outputs": [],
   "source": [
    "train_loader = torch.utils.data.DataLoader(mnist_trainset, batch_size_train, True)\n",
    "test_loader = torch.utils.data.DataLoader(mnist_testset, batch_size_test, True)"
   ]
  },
  {
   "cell_type": "code",
   "execution_count": 6,
   "metadata": {},
   "outputs": [
    {
     "data": {
      "text/plain": [
       "<torch.utils.data.dataloader.DataLoader at 0x7f920797da58>"
      ]
     },
     "execution_count": 6,
     "metadata": {},
     "output_type": "execute_result"
    }
   ],
   "source": [
    "torch.utils.data.Subset(train_loader, [1, 2, 3]).dataset"
   ]
  },
  {
   "cell_type": "code",
   "execution_count": 7,
   "metadata": {},
   "outputs": [],
   "source": [
    "examples = enumerate(test_loader)\n",
    "batch_idx, (example_data, example_targets) = next(examples)"
   ]
  },
  {
   "cell_type": "code",
   "execution_count": 8,
   "metadata": {},
   "outputs": [
    {
     "data": {
      "image/png": "[encoded data removed]",
      "text/plain": [
       "<Figure size 432x288 with 6 Axes>"
      ]
     },
     "execution_count": 8,
     "metadata": {},
     "output_type": "execute_result"
    },
    {
     "data": {
      "image/png": "[encoded data removed]",
      "text/plain": [
       "<Figure size 432x288 with 6 Axes>"
      ]
     },
     "metadata": {},
     "output_type": "display_data"
    }
   ],
   "source": [
    "fig = plt.figure()\n",
    "for i in range(6):\n",
    "    plt.subplot(2,3,i+1)\n",
    "    plt.tight_layout()\n",
    "    plt.imshow(example_data[i][0], cmap='gray', interpolation='none')\n",
    "    plt.title(\"Ground Truth: {}\".format(example_targets[i]))\n",
    "    plt.xticks([])\n",
    "    plt.yticks([])\n",
    "fig"
   ]
  },
  {
   "cell_type": "markdown",
   "metadata": {},
   "source": [
    "# Helper functions"
   ]
  },
  {
   "cell_type": "code",
   "execution_count": 9,
   "metadata": {},
   "outputs": [],
   "source": [
    "def train(epoch, net, optimizer, train_loader, v=1, track=0):\n",
    "    net.train()\n",
    "    for batch_idx, (data, target) in enumerate(train_loader):\n",
    "        optimizer.zero_grad()\n",
    "        output = net(data)\n",
    "        loss = F.nll_loss(output, target)\n",
    "        loss.backward()\n",
    "        optimizer.step()\n",
    "        if (v > 0) and (batch_idx % log_interval == 0):\n",
    "            print('Train Epoch: {} [{}/{} ({:.0f}%)]\\tLoss: {:.6f}'.format(\n",
    "            epoch, batch_idx * len(data), len(train_loader.dataset),\n",
    "            100. * batch_idx / len(train_loader), loss.item()))\n",
    "        if track > 0:\n",
    "            train_losses.append(loss.item())\n",
    "            train_counter.append(\n",
    "                (batch_idx*64) + ((epoch-1)*len(train_loader.dataset)))\n",
    "#         torch.save(network.state_dict(), 'model.pth')\n",
    "#         torch.save(optimizer.state_dict(), 'optimizer.pth')"
   ]
  },
  {
   "cell_type": "code",
   "execution_count": 10,
   "metadata": {},
   "outputs": [],
   "source": [
    "def test(net, optimizer, test_loader, v=1, track=0):\n",
    "    net.eval()\n",
    "    test_loss = 0\n",
    "    correct = 0\n",
    "    with torch.no_grad():\n",
    "        for data, target in test_loader:\n",
    "            output = net(data)\n",
    "            test_loss += F.nll_loss(output, target, size_average=False).item()\n",
    "            pred = output.data.max(1, keepdim=True)[1]\n",
    "            correct += pred.eq(target.data.view_as(pred)).sum()\n",
    "    test_loss /= len(test_loader.dataset)\n",
    "    if track > 0:\n",
    "        test_losses.append(test_loss)\n",
    "    if v>0:\n",
    "        print('\\nTest set: Avg. loss: {:.4f}, Accuracy: {}/{} ({:.0f}%)\\n'.format(\n",
    "        test_loss, correct, len(test_loader.dataset),\n",
    "        100. * correct / len(test_loader.dataset)))\n",
    "    return test_loss, correct.item()/len(test_loader.dataset)"
   ]
  },
  {
   "cell_type": "code",
   "execution_count": 11,
   "metadata": {},
   "outputs": [],
   "source": [
    "def kfold(k, N, epochs, model, optimizer, state_dict, train_loader):\n",
    "    loss_avg = 0\n",
    "    acc_avg = 0\n",
    "    for i in range(k):\n",
    "        model.load_state_dict(state_dict)\n",
    "        epoch = 0\n",
    "        count = 0\n",
    "        min_error = 100\n",
    "        max_acc = 1\n",
    "        train_mask = []\n",
    "        val_mask = []\n",
    "        for i in range(60000):\n",
    "            if i%k == 0:\n",
    "                val_mask.append(i)\n",
    "            else:\n",
    "                train_mask.append(i)\n",
    "        X_train = torch.utils.data.Subset(train_loader.dataset, train_mask)\n",
    "        X_val = torch.utils.data.Subset(train_loader.dataset, val_mask)\n",
    "        X_train_l = torch.utils.data.DataLoader(X_train, batch_size_train, True)\n",
    "        X_val_l = torch.utils.data.DataLoader(X_val, batch_size_test, True)\n",
    "        while (epoch < epochs and count < 1):\n",
    "            train(epoch, model, optimizer, X_train_l, 0)\n",
    "            test_loss, test_acc = test(model, optimizer, X_val_l, 0)\n",
    "            epoch += 1\n",
    "            if test_loss >= min_error:\n",
    "                count += 1\n",
    "            else:\n",
    "                min_error = test_loss\n",
    "                max_acc = test_acc\n",
    "            print('{:.4f} - '.format(test_loss), end='')\n",
    "        loss_avg += min_error\n",
    "        acc_avg += max_acc\n",
    "        print('{:.4f} ({:4.2f}%) |'.format(min_error, 100*max_acc), end='')\n",
    "    print('>')\n",
    "    return loss_avg/k, acc_avg/k"
   ]
  },
  {
   "cell_type": "markdown",
   "metadata": {},
   "source": [
    "# Architectures"
   ]
  },
  {
   "cell_type": "markdown",
   "metadata": {},
   "source": [
    "## MLP"
   ]
  },
  {
   "cell_type": "code",
   "execution_count": 12,
   "metadata": {},
   "outputs": [],
   "source": [
    "class MLP(nn.Module):\n",
    "    \"\"\"MLP with 3 ReLU hidden layers and 1 softmax output layer\"\"\"\n",
    "    \n",
    "    def __init__(self, H, D):\n",
    "        super(MLP, self).__init__()\n",
    "        self.fc1 = nn.Linear(32*32, H)\n",
    "        self.fc2 = nn.Linear(H, H)\n",
    "        self.fc3 = nn.Linear(H, H)\n",
    "        self.fc4 = nn.Linear(H, 10)\n",
    "        self.relu = nn.ReLU()\n",
    "        self.dropout = nn.Dropout(D)\n",
    "        \n",
    "    def forward(self, x):\n",
    "        x = x.view(-1, 32*32)\n",
    "        x = self.dropout(x)\n",
    "        x = self.relu(self.fc1(x)) # H\n",
    "        x = self.dropout(x)\n",
    "        x = self.relu(self.fc2(x)) # H\n",
    "        x = self.dropout(x)\n",
    "        x = self.relu(self.fc3(x)) # H\n",
    "        x = self.dropout(x)\n",
    "        x = F.log_softmax(self.fc4(x)) # 10\n",
    "        return x"
   ]
  },
  {
   "cell_type": "markdown",
   "metadata": {},
   "source": [
    "## CNN"
   ]
  },
  {
   "cell_type": "code",
   "execution_count": 13,
   "metadata": {},
   "outputs": [],
   "source": [
    "class CNN(nn.Module):\n",
    "    \"\"\"CNN inspired in LeNet 5\"\"\"\n",
    "    def __init__(self, D):\n",
    "        super(CNN, self).__init__()\n",
    "        self.conv1 = nn.Conv2d(1, 6, kernel_size=5)\n",
    "        self.conv2 = nn.Conv2d(6, 16, kernel_size=5)\n",
    "        self.fc1 = nn.Linear(400, 120)\n",
    "        self.fc2 = nn.Linear(120, 84)\n",
    "        self.fc3 = nn.Linear(84, 10)\n",
    "        self.dropout = nn.Dropout(D)\n",
    "\n",
    "    def forward(self, x):\n",
    "        x = F.relu(F.max_pool2d(self.conv1(x), 2)) # 6 @ 14x14\n",
    "        x = F.relu(F.max_pool2d(self.conv2(x), 2)) # 16 @ 5x5\n",
    "        x = x.view(-1, 400)\n",
    "        x = F.relu(self.fc1(x)) # 120\n",
    "        x = self.dropout(x)\n",
    "        x = F.relu(self.fc2(x)) # 84\n",
    "        x = self.dropout(x)\n",
    "        x = self.fc3(x)         # 10\n",
    "        return F.log_softmax(x)"
   ]
  },
  {
   "cell_type": "markdown",
   "metadata": {},
   "source": [
    "# MLP"
   ]
  },
  {
   "cell_type": "code",
   "execution_count": 14,
   "metadata": {
    "scrolled": false
   },
   "outputs": [
    {
     "name": "stdout",
     "output_type": "stream",
     "text": [
      "D = 0 H = 30\n"
     ]
    },
    {
     "name": "stderr",
     "output_type": "stream",
     "text": [
      "/usr/lib/python3.7/site-packages/ipykernel_launcher.py:22: UserWarning: Implicit dimension choice for log_softmax has been deprecated. Change the call to include dim=X as an argument.\n",
      "/usr/lib/python3.7/site-packages/torch/nn/_reduction.py:49: UserWarning: size_average and reduce args will be deprecated, please use reduction='sum' instead.\n",
      "  warnings.warn(warning.format(ret))\n"
     ]
    },
    {
     "name": "stdout",
     "output_type": "stream",
     "text": [
      "0.2620 - 0.2528 - 0.2597 - 0.2528 (92.84%) |"
     ]
    },
    {
     "name": "stderr",
     "output_type": "stream",
     "text": [
      "ERROR:root:Internal Python error in the inspect module.\n",
      "Below is the traceback from this internal error.\n",
      "\n"
     ]
    },
    {
     "name": "stdout",
     "output_type": "stream",
     "text": [
      "Traceback (most recent call last):\n",
      "  File \"/usr/lib/python3.7/site-packages/IPython/core/interactiveshell.py\", line 3296, in run_code\n",
      "    exec(code_obj, self.user_global_ns, self.user_ns)\n",
      "  File \"<ipython-input-14-c4037e035b5c>\", line 8, in <module>\n",
      "    loss, acc = kfold(3, 60000, 3, model, optimizer, copy.state_dict(), train_loader)\n",
      "  File \"<ipython-input-11-5d8352d2659c>\", line 22, in kfold\n",
      "    train(epoch, model, optimizer, X_train_l, 0)\n",
      "  File \"<ipython-input-9-687e4c1666b3>\", line 3, in train\n",
      "    for batch_idx, (data, target) in enumerate(train_loader):\n",
      "  File \"/usr/lib/python3.7/site-packages/torch/utils/data/dataloader.py\", line 615, in __next__\n",
      "    batch = self.collate_fn([self.dataset[i] for i in indices])\n",
      "  File \"/usr/lib/python3.7/site-packages/torch/utils/data/dataloader.py\", line 615, in <listcomp>\n",
      "    batch = self.collate_fn([self.dataset[i] for i in indices])\n",
      "  File \"/usr/lib/python3.7/site-packages/torch/utils/data/dataset.py\", line 103, in __getitem__\n",
      "    return self.dataset[self.indices[idx]]\n",
      "  File \"/usr/lib/python3.7/site-packages/torchvision/datasets/mnist.py\", line 95, in __getitem__\n",
      "    img = self.transform(img)\n",
      "  File \"/usr/lib/python3.7/site-packages/torchvision/transforms/transforms.py\", line 60, in __call__\n",
      "    img = t(img)\n",
      "  File \"/usr/lib/python3.7/site-packages/torchvision/transforms/transforms.py\", line 195, in __call__\n",
      "    return F.resize(img, self.size, self.interpolation)\n",
      "  File \"/usr/lib/python3.7/site-packages/torchvision/transforms/functional.py\", line 244, in resize\n",
      "    return img.resize((ow, oh), interpolation)\n",
      "  File \"/usr/lib/python3.7/site-packages/PIL/Image.py\", line 1819, in resize\n",
      "    return self._new(self.im.resize(size, resample, box))\n",
      "KeyboardInterrupt\n",
      "\n",
      "During handling of the above exception, another exception occurred:\n",
      "\n",
      "Traceback (most recent call last):\n",
      "  File \"/usr/lib/python3.7/site-packages/IPython/core/interactiveshell.py\", line 2033, in showtraceback\n",
      "    stb = value._render_traceback_()\n",
      "AttributeError: 'KeyboardInterrupt' object has no attribute '_render_traceback_'\n",
      "\n",
      "During handling of the above exception, another exception occurred:\n",
      "\n",
      "Traceback (most recent call last):\n",
      "  File \"/usr/lib/python3.7/site-packages/IPython/core/ultratb.py\", line 1095, in get_records\n",
      "    return _fixed_getinnerframes(etb, number_of_lines_of_context, tb_offset)\n",
      "  File \"/usr/lib/python3.7/site-packages/IPython/core/ultratb.py\", line 313, in wrapped\n",
      "    return f(*args, **kwargs)\n",
      "  File \"/usr/lib/python3.7/site-packages/IPython/core/ultratb.py\", line 347, in _fixed_getinnerframes\n",
      "    records = fix_frame_records_filenames(inspect.getinnerframes(etb, context))\n",
      "  File \"/usr/lib/python3.7/inspect.py\", line 1502, in getinnerframes\n",
      "    frameinfo = (tb.tb_frame,) + getframeinfo(tb, context)\n",
      "  File \"/usr/lib/python3.7/inspect.py\", line 1464, in getframeinfo\n",
      "    lines, lnum = findsource(frame)\n",
      "  File \"/usr/lib/python3.7/site-packages/IPython/core/ultratb.py\", line 167, in findsource\n",
      "    file = getsourcefile(object) or getfile(object)\n",
      "  File \"/usr/lib/python3.7/inspect.py\", line 696, in getsourcefile\n",
      "    if getattr(getmodule(object, filename), '__loader__', None) is not None:\n",
      "  File \"/usr/lib/python3.7/inspect.py\", line 733, in getmodule\n",
      "    if ismodule(module) and hasattr(module, '__file__'):\n",
      "KeyboardInterrupt\n"
     ]
    },
    {
     "ename": "KeyboardInterrupt",
     "evalue": "",
     "output_type": "error",
     "traceback": [
      "\u001b[0;31m------------------------------------------------\u001b[0m"
     ]
    }
   ],
   "source": [
    "models = []\n",
    "for H in [30, 60, 100, 300, 600]:\n",
    "    for D in [0, 0.3, 0.5]:\n",
    "        model = MLP(H, D)\n",
    "        copy = MLP(H, D)\n",
    "        optimizer = optim.Adam(model.parameters(), lr=learning_rate)\n",
    "        print('D =', D, 'H =', H)\n",
    "        loss, acc = kfold(3, 60000, 3, model, optimizer, copy.state_dict(), train_loader)\n",
    "        print()\n",
    "        models.append((H, D, loss, acc)) "
   ]
  },
  {
   "cell_type": "code",
   "execution_count": null,
   "metadata": {},
   "outputs": [],
   "source": [
    "models"
   ]
  },
  {
   "cell_type": "code",
   "execution_count": null,
   "metadata": {},
   "outputs": [],
   "source": [
    "mlp = MLP(300, 0)\n",
    "optimizer = optim.Adam(mlp.parameters(), lr=learning_rate)\n",
    "train_losses = []\n",
    "train_counter = []\n",
    "test_losses = []\n",
    "test_counter = [i*len(train_loader.dataset) for i in range(n_epochs + 1)]"
   ]
  },
  {
   "cell_type": "code",
   "execution_count": null,
   "metadata": {
    "scrolled": false
   },
   "outputs": [],
   "source": [
    "test(mlp, optimizer, test_loader, v=1, track=1)\n",
    "for epoch in range(1, n_epochs + 1):\n",
    "    train(epoch, mlp, optimizer, train_loader, v=1, track=1)\n",
    "    test(mlp, optimizer, test_loader, v=1, track=1)"
   ]
  },
  {
   "cell_type": "code",
   "execution_count": null,
   "metadata": {},
   "outputs": [],
   "source": [
    "fig = plt.figure()\n",
    "plt.plot(train_counter, train_losses, color='blue', zorder=1)\n",
    "plt.scatter(test_counter, test_losses, color='red', zorder=2)\n",
    "plt.legend(['Train Loss', 'Test Loss'], loc='upper right')\n",
    "plt.xlabel('number of training examples seen')\n",
    "plt.ylabel('negative log likelihood loss')\n",
    "plt.savefig(os.path.join(image_dir, 'mlp.png'), bbox_inches='tight')\n",
    "plt.show()"
   ]
  },
  {
   "cell_type": "markdown",
   "metadata": {},
   "source": [
    "# CNN"
   ]
  },
  {
   "cell_type": "code",
   "execution_count": null,
   "metadata": {},
   "outputs": [],
   "source": [
    "models_cnn = []\n",
    "for D in [0, 0.3, 0.5]:\n",
    "    model = CNN(D)\n",
    "    copy = CNN(D)\n",
    "    optimizer = optim.Adam(model.parameters(), lr=learning_rate)\n",
    "    print('D =', D)\n",
    "    loss, acc = kfold(3, 60000, 3, model, optimizer, copy.state_dict(), train_loader)\n",
    "    print()\n",
    "    models_cnn.append((D, loss, acc)) "
   ]
  },
  {
   "cell_type": "code",
   "execution_count": null,
   "metadata": {},
   "outputs": [],
   "source": [
    "models_cnn"
   ]
  },
  {
   "cell_type": "code",
   "execution_count": null,
   "metadata": {},
   "outputs": [],
   "source": [
    "train_losses_mlp = train_losses[:]\n",
    "test_losses_mlp = test_losses[:]"
   ]
  },
  {
   "cell_type": "code",
   "execution_count": null,
   "metadata": {},
   "outputs": [],
   "source": [
    "cnn = CNN(0)\n",
    "optimizer = optim.Adam(cnn.parameters(), lr=learning_rate)\n",
    "train_losses = []\n",
    "train_counter = []\n",
    "test_losses = []\n",
    "test_counter = [i*len(train_loader.dataset) for i in range(n_epochs + 1)]"
   ]
  },
  {
   "cell_type": "code",
   "execution_count": null,
   "metadata": {
    "scrolled": false
   },
   "outputs": [],
   "source": [
    "test(cnn, optimizer, test_loader, v=1, track=1)\n",
    "for epoch in range(1, n_epochs + 1):\n",
    "    train(epoch, cnn, optimizer, train_loader, v=1, track=1)\n",
    "    test(cnn, optimizer, test_loader, v=1, track=1)"
   ]
  },
  {
   "cell_type": "code",
   "execution_count": null,
   "metadata": {},
   "outputs": [],
   "source": [
    "fig = plt.figure()\n",
    "plt.plot(train_counter, train_losses, color='blue', zorder=1)\n",
    "plt.scatter(test_counter, test_losses, color='red', zorder=2)\n",
    "plt.legend(['Train Loss', 'Test Loss'], loc='upper right')\n",
    "plt.xlabel('number of training examples seen')\n",
    "plt.ylabel('negative log likelihood loss')\n",
    "plt.savefig(os.path.join(image_dir, 'cnn.png'), bbox_inches='tight')\n",
    "plt.show()"
   ]
  },
  {
   "cell_type": "code",
   "execution_count": null,
   "metadata": {},
   "outputs": [],
   "source": [
    "fig = plt.figure()\n",
    "\n",
    "plt.subplot(1,2,1)\n",
    "plt.plot(train_counter, train_losses_mlp, color='blue', zorder=1)\n",
    "plt.scatter(test_counter, test_losses_mlp, color='red', zorder=2)\n",
    "plt.legend(['Train Loss', 'Test Loss'], loc='upper right')\n",
    "plt.xlabel('number of training examples seen')\n",
    "plt.ylabel('negative log likelihood loss')\n",
    "plt.title('MLP')\n",
    "\n",
    "plt.subplot(1,2,2)\n",
    "plt.plot(train_counter, train_losses, color='blue', zorder=1)\n",
    "plt.scatter(test_counter, test_losses, color='red', zorder=2)\n",
    "plt.legend(['Train Loss', 'Test Loss'], loc='upper right')\n",
    "plt.xlabel('number of training examples seen')\n",
    "plt.ylabel('negative log likelihood loss')\n",
    "plt.title('CNN')\n",
    "\n",
    "plt.savefig(os.path.join(image_dir, 'learning_curves.png'), bbox_inches='tight')"
   ]
  }
 ],
 "metadata": {
  "kernelspec": {
   "display_name": "Python 3",
   "language": "python",
   "name": "python3"
  },
  "language_info": {
   "codemirror_mode": {
    "name": "ipython",
    "version": 3
   },
   "file_extension": ".py",
   "mimetype": "text/x-python",
   "name": "python",
   "nbconvert_exporter": "python",
   "pygments_lexer": "ipython3",
   "version": "3.7.3"
  }
 },
 "nbformat": 4,
 "nbformat_minor": 2
}
